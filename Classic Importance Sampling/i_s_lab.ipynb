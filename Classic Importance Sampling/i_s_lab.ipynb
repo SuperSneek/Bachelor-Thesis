{
 "cells": [
  {
   "cell_type": "code",
   "execution_count": 68,
   "metadata": {},
   "outputs": [],
   "source": [
    "import numpy as np\n",
    "import scipy.stats as stats\n",
    "from scipy.stats import beta\n",
    "import matplotlib.pyplot as plot\n",
    "\n",
    "h = lambda x : x > 3\n",
    "f = lambda x : stats.norm().pdf(x)\n",
    "g = lambda x : stats.norm(loc=4,scale=1.0).pdf(x)"
   ]
  },
  {
   "cell_type": "code",
   "execution_count": 69,
   "metadata": {},
   "outputs": [],
   "source": [
    "def monte_carlo_sim(N, loc, scale):\n",
    "    X = np.random.normal(loc,scale,size=N)\n",
    "    return 1./N * np.sum(h(X))\n"
   ]
  },
  {
   "cell_type": "code",
   "execution_count": 78,
   "metadata": {},
   "outputs": [],
   "source": [
    "def cdf_method(N, loc, scale):\n",
    "    return 1 - stats.norm(0,1).cdf(3)"
   ]
  },
  {
   "cell_type": "code",
   "execution_count": 71,
   "metadata": {},
   "outputs": [],
   "source": [
    "\n",
    "\n",
    "def generate_F_samples(N):\n",
    "    return stats.norm().rvs(N)\n"
   ]
  },
  {
   "cell_type": "code",
   "execution_count": null,
   "metadata": {},
   "outputs": [],
   "source": []
  },
  {
   "cell_type": "code",
   "execution_count": 72,
   "metadata": {},
   "outputs": [],
   "source": [
    "def importance_sampling(N, real_f):\n",
    "    #Importance distribution\n",
    "    X = np.random.normal(loc=4,scale=1,size=N)\n",
    "    return 1./N * np.sum((h(X)*real_f(X))/g(X))"
   ]
  },
  {
   "cell_type": "code",
   "execution_count": 73,
   "metadata": {},
   "outputs": [],
   "source": [
    "def estimate_fitting(N):\n",
    "    x = generate_F_samples(N)\n",
    "    loc,scale = stats.norm.fit(x)\n",
    "    return [loc,scale]"
   ]
  },
  {
   "cell_type": "code",
   "execution_count": 74,
   "metadata": {},
   "outputs": [
    {
     "data": {
      "text/plain": [
       "0.0016"
      ]
     },
     "execution_count": 74,
     "metadata": {},
     "output_type": "execute_result"
    }
   ],
   "source": [
    "monte_carlo_sim(10000, 0 ,1)"
   ]
  },
  {
   "cell_type": "code",
   "execution_count": 75,
   "metadata": {},
   "outputs": [
    {
     "ename": "TypeError",
     "evalue": "importance_sampling() takes 2 positional arguments but 4 were given",
     "output_type": "error",
     "traceback": [
      "\u001b[0;31m---------------------------------------------------------------------------\u001b[0m",
      "\u001b[0;31mTypeError\u001b[0m                                 Traceback (most recent call last)",
      "\u001b[0;32m<ipython-input-75-be4e4ac2d61d>\u001b[0m in \u001b[0;36m<module>\u001b[0;34m\u001b[0m\n\u001b[0;32m----> 1\u001b[0;31m \u001b[0mimportance_sampling\u001b[0m\u001b[0;34m(\u001b[0m\u001b[0;36m10000\u001b[0m\u001b[0;34m,\u001b[0m \u001b[0mf\u001b[0m\u001b[0;34m,\u001b[0m \u001b[0;36m4\u001b[0m \u001b[0;34m,\u001b[0m \u001b[0;36m1\u001b[0m\u001b[0;34m)\u001b[0m\u001b[0;34m\u001b[0m\u001b[0;34m\u001b[0m\u001b[0m\n\u001b[0m",
      "\u001b[0;31mTypeError\u001b[0m: importance_sampling() takes 2 positional arguments but 4 were given"
     ]
    }
   ],
   "source": [
    "importance_sampling(10000, f, 4 , 1)"
   ]
  },
  {
   "cell_type": "code",
   "execution_count": null,
   "metadata": {},
   "outputs": [],
   "source": []
  },
  {
   "cell_type": "code",
   "execution_count": 81,
   "metadata": {},
   "outputs": [],
   "source": [
    "datapoints = []\n",
    "is_classic = []\n",
    "is_estimated = []\n",
    "mc_classic = []\n",
    "mc_estimated = []\n",
    "cdf = []\n",
    "for i in range(100,50000, 1000):\n",
    "    datapoints.append(i)\n",
    "    vals = estimate_fitting(i)\n",
    "    f_est = lambda x : stats.norm(loc=vals[0],scale=vals[1]).pdf(x)\n",
    "    cdf.append(cdf_method(i, vals[0] , vals[1]))\n",
    "    is_classic.append(importance_sampling(i, f))\n",
    "    is_estimated.append(importance_sampling(i, f_est))\n",
    "    mc_classic.append(monte_carlo_sim(i, 0, 1))\n",
    "    mc_estimated.append(monte_carlo_sim(i, vals[0], vals[1]))\n",
    "\n"
   ]
  },
  {
   "cell_type": "code",
   "execution_count": 82,
   "metadata": {},
   "outputs": [
    {
     "data": {
      "text/plain": [
       "<matplotlib.legend.Legend at 0x7fa5c79fdb50>"
      ]
     },
     "execution_count": 82,
     "metadata": {},
     "output_type": "execute_result"
    },
    {
     "data": {
      "image/png": "[encoded data removed]",
      "text/plain": [
       "<Figure size 432x288 with 1 Axes>"
      ]
     },
     "metadata": {
      "needs_background": "light"
     },
     "output_type": "display_data"
    }
   ],
   "source": [
    "fig = plot.figure()\n",
    "#plot.plot(datapoints, is_classic, label=\"is_classic\")\n",
    "plot.plot(datapoints, is_estimated, label=\"is estimated\")\n",
    "plot.plot(datapoints, mc_classic, label=\"mc classic\")\n",
    "#plot.plot(datapoints, mc_estimated, label=\"mc estimated\")\n",
    "plot.plot(datapoints, cdf, label=\"cdf\")\n",
    "plot.legend(loc=\"upper left\")"
   ]
  }
 ],
 "metadata": {
  "kernelspec": {
   "display_name": "Python 3.8.10 64-bit",
   "language": "python",
   "name": "python3"
  },
  "language_info": {
   "codemirror_mode": {
    "name": "ipython",
    "version": 3
   },
   "file_extension": ".py",
   "mimetype": "text/x-python",
   "name": "python",
   "nbconvert_exporter": "python",
   "pygments_lexer": "ipython3",
   "version": "3.8.10"
  },
  "orig_nbformat": 4,
  "vscode": {
   "interpreter": {
    "hash": "916dbcbb3f70747c44a77c7bcd40155683ae19c65e1c03b4aa3499c5328201f1"
   }
  }
 },
 "nbformat": 4,
 "nbformat_minor": 2
}
