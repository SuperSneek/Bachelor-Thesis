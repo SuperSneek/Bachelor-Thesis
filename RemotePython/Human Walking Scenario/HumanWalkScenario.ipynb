{
 "cells": [
  {
   "cell_type": "code",
   "execution_count": 11,
   "metadata": {},
   "outputs": [],
   "source": [
    "#Setting up the simulation\n",
    "#Imports\n",
    "from zmqRemoteApi import RemoteAPIClient\n",
    "import numpy\n",
    "from matplotlib import pyplot as plt\n",
    "import time\n",
    "\n",
    "client = RemoteAPIClient()\n",
    "sim = client.getObject('sim')\n",
    "client.setStepping(True)\n",
    "human = sim.getObject('./Bill')\n",
    "tip = sim.getObject('./tip')\n"
   ]
  },
  {
   "cell_type": "markdown",
   "metadata": {},
   "source": [
    "## The Human Walk Scenario\n",
    "In this scenario a human walks towards the robot. After some time he stops walking, turns to a random direction and then continues walking in this direction\n",
    "\n",
    "### Turning\n",
    "I decided to use the 'Walking Bill' template from coppeliasim. I removed its object detection and made it just walk forwards for x seconds. When turning the orientation is set in radians. The used code is:\n",
    "```\n",
    "r[3]=r[3]+dt*2*speedModulator\n",
    "```\n",
    "with dt being the elapsed time in this step in seconds and speedModulator being 1.\n",
    "#### Equal distribution\n",
    "This means that for one full rotation, pi seconds have to elapse.\n",
    "Using different distributions is very easy now, because we can just change the distribution of the turning time parameter."
   ]
  },
  {
   "cell_type": "code",
   "execution_count": 12,
   "metadata": {},
   "outputs": [],
   "source": [
    "#Using an equal distribution\n",
    "def sendEqualParam():\n",
    "    param = numpy.random.random() * numpy.pi * 0.25\n",
    "    param += numpy.pi/4\n",
    "    sim.setFloatSignal(\"rotationTime\", param)"
   ]
  },
  {
   "cell_type": "markdown",
   "metadata": {},
   "source": [
    "#### Using normal distribution\n",
    "Using normal distribution is a bit more tricky. How much do we want Bill to deviate from simply walking forwards. I think standard devation should be a 90° or pi/4 turn."
   ]
  },
  {
   "cell_type": "code",
   "execution_count": 13,
   "metadata": {},
   "outputs": [],
   "source": [
    "#Using a normal distribution\n",
    "def sendNormalParam():\n",
    "    normaldist = numpy.random.normal(numpy.pi,numpy.pi/8)\n",
    "    normaldist = numpy.abs(normaldist) + numpy.pi/4\n",
    "    sim.setFloatSignal(\"rotationTime\", normaldist)"
   ]
  },
  {
   "cell_type": "code",
   "execution_count": 14,
   "metadata": {},
   "outputs": [],
   "source": [
    "def simulate():\n",
    "    #send new parameters\n",
    "    sendEqualParam()\n",
    "\n",
    "    sim.boolparam_display_enabled = False\n",
    "    sim.intparam_speedmodifier = 0.1\n",
    "    \n",
    "    min = 100000000\n",
    "\n",
    "    sim.startSimulation()\n",
    "\n",
    "    while (t := sim.getSimulationTime()) < 7:\n",
    "        s = f'Simulation time: {t:.2f} [s]'\n",
    "        \n",
    "        result,distanceData,objs=sim.checkDistance(human,tip,0)\n",
    "        dist = distanceData[6]\n",
    "        if(dist<min):\n",
    "            min = dist\n",
    "        client.step()\n",
    "    sim.stopSimulation()\n",
    "    return min"
   ]
  },
  {
   "cell_type": "code",
   "execution_count": 15,
   "metadata": {},
   "outputs": [
    {
     "data": {
      "text/plain": [
       "1.211902379989624"
      ]
     },
     "execution_count": 15,
     "metadata": {},
     "output_type": "execute_result"
    }
   ],
   "source": [
    "data = []\n",
    "simulate()\n"
   ]
  },
  {
   "attachments": {},
   "cell_type": "markdown",
   "metadata": {},
   "source": [
    "#### Using the scanner\n",
    "\n",
    "The other component of the scenario is the laser scanner. To make the generated data points random I am using two different parameters for the scanner: Speed and distance accuracy.  "
   ]
  }
 ],
 "metadata": {
  "kernelspec": {
   "display_name": "Python 3",
   "language": "python",
   "name": "python3"
  },
  "language_info": {
   "codemirror_mode": {
    "name": "ipython",
    "version": 3
   },
   "file_extension": ".py",
   "mimetype": "text/x-python",
   "name": "python",
   "nbconvert_exporter": "python",
   "pygments_lexer": "ipython3",
   "version": "3.8.10"
  },
  "orig_nbformat": 4,
  "vscode": {
   "interpreter": {
    "hash": "916dbcbb3f70747c44a77c7bcd40155683ae19c65e1c03b4aa3499c5328201f1"
   }
  }
 },
 "nbformat": 4,
 "nbformat_minor": 2
}
