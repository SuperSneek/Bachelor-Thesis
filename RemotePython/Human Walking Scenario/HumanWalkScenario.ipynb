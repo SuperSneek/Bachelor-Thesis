{
 "cells": [
  {
   "cell_type": "code",
   "execution_count": 1,
   "metadata": {},
   "outputs": [],
   "source": [
    "#Setting up the simulation\n",
    "#Imports\n",
    "from zmqRemoteApi import RemoteAPIClient\n",
    "import numpy\n",
    "from matplotlib import pyplot as plt\n",
    "import time\n",
    "\n",
    "client = RemoteAPIClient()\n",
    "sim = client.getObject('sim')\n",
    "client.setStepping(True)\n",
    "human = sim.getObject('./Bill')\n",
    "tip = sim.getObject('./tip')\n"
   ]
  },
  {
   "cell_type": "markdown",
   "metadata": {},
   "source": [
    "## The Human Walk Scenario\n",
    "In this scenario a human walks towards the robot. After some time he stops walking, turns to a random direction and then continues walking in this direction\n",
    "\n",
    "### Turning\n",
    "I decided to use the 'Walking Bill' template from coppeliasim. I removed its object detection and made it just walk forwards for x seconds. When turning the orientation is set in radians. The used code is:\n",
    "```\n",
    "r[3]=r[3]+dt*2*speedModulator\n",
    "```\n",
    "with dt being the elapsed time in this step in seconds and speedModulator being 1.\n",
    "#### Equal distribution\n",
    "This means that for one full rotation, pi seconds have to elapse.\n",
    "Using different distributions is very easy now, because we can just change the distribution of the turning time parameter."
   ]
  },
  {
   "cell_type": "code",
   "execution_count": 2,
   "metadata": {},
   "outputs": [],
   "source": [
    "#Using an equal distribution\n",
    "def sendEqualParam():\n",
    "    param = numpy.random.random() * numpy.pi * 0.25\n",
    "    param += numpy.pi/4\n",
    "    sim.setFloatSignal(\"rotationTime\", param)"
   ]
  },
  {
   "cell_type": "markdown",
   "metadata": {},
   "source": [
    "#### Using normal distribution\n",
    "Using normal distribution is a bit more tricky. How much do we want Bill to deviate from simply walking forwards. I think standard devation should be a 90° or pi/4 turn."
   ]
  },
  {
   "cell_type": "code",
   "execution_count": 3,
   "metadata": {},
   "outputs": [],
   "source": [
    "#Using a normal distribution\n",
    "def sendNormalParam():\n",
    "    normaldist = numpy.random.normal(numpy.pi,numpy.pi/8)\n",
    "    normaldist = numpy.abs(normaldist) + numpy.pi/4\n",
    "    sim.setFloatSignal(\"rotationTime\", normaldist)"
   ]
  },
  {
   "cell_type": "code",
   "execution_count": 4,
   "metadata": {},
   "outputs": [],
   "source": [
    "def simulate():\n",
    "    print(\"simulating\")\n",
    "    #send new parameters\n",
    "    sendEqualParam()\n",
    "    sim.setFloatSignal(\"robotSpeed\", numpy.random.random() / 4 + 0.1)\n",
    "    sim.boolparam_display_enabled = False\n",
    "    sim.intparam_speedmodifier = 0.1\n",
    "    \n",
    "    min = 500\n",
    "\n",
    "    sim.startSimulation()\n",
    "\n",
    "    while (t := sim.getSimulationTime()) < 7:\n",
    "        s = f'Simulation time: {t:.2f} [s]'\n",
    "        \n",
    "        result,distanceData,objs=sim.checkDistance(human,tip,0)\n",
    "        dist = distanceData[6]\n",
    "        if(dist<min):\n",
    "            min = dist\n",
    "        client.step()\n",
    "    sim.stopSimulation()\n",
    "    if min == 500:\n",
    "        print(\"sus\")\n",
    "    return min"
   ]
  },
  {
   "cell_type": "code",
   "execution_count": 5,
   "metadata": {},
   "outputs": [],
   "source": [
    "data = []"
   ]
  },
  {
   "cell_type": "code",
   "execution_count": 6,
   "metadata": {},
   "outputs": [
    {
     "name": "stdout",
     "output_type": "stream",
     "text": [
      "simulating\n",
      "1.2611713409423828\n",
      "simulating\n",
      "1.2932050228118896\n",
      "simulating\n",
      "1.2932050228118896\n",
      "simulating\n",
      "1.2711069583892822\n",
      "simulating\n",
      "1.2822068929672241\n",
      "simulating\n"
     ]
    },
    {
     "ename": "KeyboardInterrupt",
     "evalue": "",
     "output_type": "error",
     "traceback": [
      "\u001b[1;31m---------------------------------------------------------------------------\u001b[0m",
      "\u001b[1;31mKeyboardInterrupt\u001b[0m                         Traceback (most recent call last)",
      "Cell \u001b[1;32mIn [6], line 6\u001b[0m\n\u001b[0;32m      4\u001b[0m limit \u001b[39m=\u001b[39m \u001b[39m1.0\u001b[39m\n\u001b[0;32m      5\u001b[0m \u001b[39mfor\u001b[39;00m i \u001b[39min\u001b[39;00m \u001b[39mrange\u001b[39m(\u001b[39m0\u001b[39m,\u001b[39m100\u001b[39m):\n\u001b[1;32m----> 6\u001b[0m     \u001b[39mmin\u001b[39m \u001b[39m=\u001b[39m simulate()\n\u001b[0;32m      7\u001b[0m     \u001b[39mprint\u001b[39m(\u001b[39mmin\u001b[39m)\n\u001b[0;32m      8\u001b[0m     data\u001b[39m.\u001b[39mappend(\u001b[39mmin\u001b[39m)\n",
      "Cell \u001b[1;32mIn [4], line 20\u001b[0m, in \u001b[0;36msimulate\u001b[1;34m()\u001b[0m\n\u001b[0;32m     18\u001b[0m     \u001b[39mif\u001b[39;00m(dist\u001b[39m<\u001b[39m\u001b[39mmin\u001b[39m):\n\u001b[0;32m     19\u001b[0m         \u001b[39mmin\u001b[39m \u001b[39m=\u001b[39m dist\n\u001b[1;32m---> 20\u001b[0m     client\u001b[39m.\u001b[39;49mstep()\n\u001b[0;32m     21\u001b[0m sim\u001b[39m.\u001b[39mstopSimulation()\n\u001b[0;32m     22\u001b[0m \u001b[39mif\u001b[39;00m \u001b[39mmin\u001b[39m \u001b[39m==\u001b[39m \u001b[39m500\u001b[39m:\n",
      "File \u001b[1;32m~\\CoppeliaSim\\Bachelor-Thesis\\remoteapi\\zmqRemoteApi\\clients\\python\\zmqRemoteApi\\__init__.py:109\u001b[0m, in \u001b[0;36mRemoteAPIClient.step\u001b[1;34m(self, wait)\u001b[0m\n\u001b[0;32m    107\u001b[0m \u001b[39mself\u001b[39m\u001b[39m.\u001b[39mgetStepCount(\u001b[39mFalse\u001b[39;00m)\n\u001b[0;32m    108\u001b[0m \u001b[39mself\u001b[39m\u001b[39m.\u001b[39mcall(\u001b[39m'\u001b[39m\u001b[39mstep\u001b[39m\u001b[39m'\u001b[39m, [\u001b[39mself\u001b[39m\u001b[39m.\u001b[39muuid])\n\u001b[1;32m--> 109\u001b[0m \u001b[39mself\u001b[39;49m\u001b[39m.\u001b[39;49mgetStepCount(wait)\n",
      "File \u001b[1;32m~\\CoppeliaSim\\Bachelor-Thesis\\remoteapi\\zmqRemoteApi\\clients\\python\\zmqRemoteApi\\__init__.py:114\u001b[0m, in \u001b[0;36mRemoteAPIClient.getStepCount\u001b[1;34m(self, wait)\u001b[0m\n\u001b[0;32m    112\u001b[0m \u001b[39mif\u001b[39;00m \u001b[39mself\u001b[39m\u001b[39m.\u001b[39mthreadLocLevel \u001b[39m>\u001b[39m \u001b[39m0\u001b[39m:\n\u001b[0;32m    113\u001b[0m     \u001b[39mtry\u001b[39;00m:\n\u001b[1;32m--> 114\u001b[0m         \u001b[39mself\u001b[39;49m\u001b[39m.\u001b[39;49mcntsocket\u001b[39m.\u001b[39;49mrecv(\u001b[39m0\u001b[39;49m \u001b[39mif\u001b[39;49;00m wait \u001b[39melse\u001b[39;49;00m zmq\u001b[39m.\u001b[39;49mNOBLOCK)\n\u001b[0;32m    115\u001b[0m     \u001b[39mexcept\u001b[39;00m zmq\u001b[39m.\u001b[39mZMQError:\n\u001b[0;32m    116\u001b[0m         \u001b[39mpass\u001b[39;00m\n",
      "File \u001b[1;32mzmq\\backend\\cython\\socket.pyx:809\u001b[0m, in \u001b[0;36mzmq.backend.cython.socket.Socket.recv\u001b[1;34m()\u001b[0m\n",
      "File \u001b[1;32mzmq\\backend\\cython\\socket.pyx:845\u001b[0m, in \u001b[0;36mzmq.backend.cython.socket.Socket.recv\u001b[1;34m()\u001b[0m\n",
      "File \u001b[1;32mzmq\\backend\\cython\\socket.pyx:194\u001b[0m, in \u001b[0;36mzmq.backend.cython.socket._recv_copy\u001b[1;34m()\u001b[0m\n",
      "File \u001b[1;32m~\\AppData\\Local\\Packages\\PythonSoftwareFoundation.Python.3.10_qbz5n2kfra8p0\\LocalCache\\local-packages\\Python310\\site-packages\\zmq\\backend\\cython\\checkrc.pxd:13\u001b[0m, in \u001b[0;36mzmq.backend.cython.checkrc._check_rc\u001b[1;34m()\u001b[0m\n",
      "\u001b[1;31mKeyboardInterrupt\u001b[0m: "
     ]
    }
   ],
   "source": [
    "if(data == None):\n",
    "    print(\"Instantiating data array\")\n",
    "    data = []\n",
    "limit = 1.0\n",
    "for i in range(0,100):\n",
    "    min = simulate()\n",
    "    print(min)\n",
    "    data.append(min)\n",
    "    if(min < limit):\n",
    "        print(\"Critical!!!\")\n",
    "    time.sleep(0.2)\n"
   ]
  },
  {
   "attachments": {},
   "cell_type": "markdown",
   "metadata": {},
   "source": [
    "#### Using the scanner\n",
    "\n",
    "The other component of the scenario is the laser scanner. To make the generated data points random I am using two different parameters for the scanner: Speed and distance accuracy.  "
   ]
  }
 ],
 "metadata": {
  "kernelspec": {
   "display_name": "Python 3",
   "language": "python",
   "name": "python3"
  },
  "language_info": {
   "codemirror_mode": {
    "name": "ipython",
    "version": 3
   },
   "file_extension": ".py",
   "mimetype": "text/x-python",
   "name": "python",
   "nbconvert_exporter": "python",
   "pygments_lexer": "ipython3",
   "version": "3.10.9"
  },
  "orig_nbformat": 4,
  "vscode": {
   "interpreter": {
    "hash": "1a4df653cc6538bc064642da9074d5ada00ec088d69af596681d7d49a0630ded"
   }
  }
 },
 "nbformat": 4,
 "nbformat_minor": 2
}
