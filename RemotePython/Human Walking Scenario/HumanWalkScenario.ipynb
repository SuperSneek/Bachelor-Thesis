{
 "cells": [
  {
   "cell_type": "code",
   "execution_count": 16,
   "metadata": {},
   "outputs": [],
   "source": [
    "#Setting up the simulation\n",
    "#Imports\n",
    "from zmqRemoteApi import RemoteAPIClient\n",
    "import numpy\n",
    "from matplotlib import pyplot as plt\n",
    "\n",
    "\n",
    "client = RemoteAPIClient()\n",
    "sim = client.getObject('sim')\n",
    "client.setStepping(True)\n",
    "human = sim.getObject('./Bill')\n"
   ]
  },
  {
   "cell_type": "markdown",
   "metadata": {},
   "source": [
    "## The Human Walk Scenario\n",
    "In this scenario a human walks towards the robot. After some time he stops walking, turns to a random direction and then continues walking in this direction\n",
    "\n",
    "### Turning\n",
    "I decided to use the 'Walking Bill' template from coppeliasim. I removed its object detection and made it just walk forwards for x seconds. When turning the orientation is set in radians. The used code is:\n",
    "```\n",
    "r[3]=r[3]+dt*2*speedModulator\n",
    "```\n",
    "with dt being the elapsed time in this step in seconds and speedModulator being 1.\n",
    "#### Equal distribution\n",
    "This means that for one full rotation, pi seconds have to elapse.\n",
    "Using different distributions is very easy now, because we can just change the distribution of the turning time parameter."
   ]
  },
  {
   "cell_type": "code",
   "execution_count": 17,
   "metadata": {},
   "outputs": [],
   "source": [
    "#Using an equal distribution\n",
    "def sendEqualParam():\n",
    "    param = numpy.random.random() * numpy.pi * 0.5\n",
    "    print(param)\n",
    "    sim.setFloatSignal(\"rotationTime\", param)"
   ]
  },
  {
   "cell_type": "markdown",
   "metadata": {},
   "source": [
    "#### Using normal distribution\n",
    "Using normal distribution is a bit more tricky. How much do we want Bill to deviate from simply walking forwards. I think standard devation should be a 90° or pi/4 turn."
   ]
  },
  {
   "cell_type": "code",
   "execution_count": 18,
   "metadata": {},
   "outputs": [],
   "source": [
    "#Using a normal distribution\n",
    "def sendNormalParam():\n",
    "    normaldist = numpy.random.normal(0,numpy.pi/4)\n",
    "    sim.setFloatSignal(\"rotationTime\", normaldist)"
   ]
  },
  {
   "cell_type": "code",
   "execution_count": 19,
   "metadata": {},
   "outputs": [
    {
     "name": "stdout",
     "output_type": "stream",
     "text": [
      "1.5705370463089083\n"
     ]
    }
   ],
   "source": [
    "#Actually execute the code\n",
    "sendEqualParam()"
   ]
  },
  {
   "attachments": {},
   "cell_type": "markdown",
   "metadata": {},
   "source": [
    "#### Using the scanner\n",
    "\n",
    "The other component of the scenario is the laser scanner. To make the generated data points random I am using two different parameters for the scanner: Speed and distance accuracy.  "
   ]
  }
 ],
 "metadata": {
  "kernelspec": {
   "display_name": "Python 3.10.8 64-bit (microsoft store)",
   "language": "python",
   "name": "python3"
  },
  "language_info": {
   "codemirror_mode": {
    "name": "ipython",
    "version": 3
   },
   "file_extension": ".py",
   "mimetype": "text/x-python",
   "name": "python",
   "nbconvert_exporter": "python",
   "pygments_lexer": "ipython3",
   "version": "3.10"
  },
  "orig_nbformat": 4,
  "vscode": {
   "interpreter": {
    "hash": "1a4df653cc6538bc064642da9074d5ada00ec088d69af596681d7d49a0630ded"
   }
  }
 },
 "nbformat": 4,
 "nbformat_minor": 2
}
