{
 "cells": [
  {
   "cell_type": "code",
   "execution_count": 5,
   "metadata": {},
   "outputs": [],
   "source": [
    "#Setting up the simulation\n",
    "#Imports\n",
    "from zmqRemoteApi import RemoteAPIClient\n",
    "import numpy\n",
    "from matplotlib import pyplot as plt\n",
    "import time\n",
    "\n",
    "client = RemoteAPIClient()\n",
    "sim = client.getObject('sim')\n",
    "client.setStepping(True)\n",
    "human = sim.getObject('./Bill')\n"
   ]
  },
  {
   "cell_type": "markdown",
   "metadata": {},
   "source": [
    "## The Human Walk Scenario\n",
    "In this scenario a human walks towards the robot. After some time he stops walking, turns to a random direction and then continues walking in this direction\n",
    "\n",
    "### Turning\n",
    "I decided to use the 'Walking Bill' template from coppeliasim. I removed its object detection and made it just walk forwards for x seconds. When turning the orientation is set in radians. The used code is:\n",
    "```\n",
    "r[3]=r[3]+dt*2*speedModulator\n",
    "```\n",
    "with dt being the elapsed time in this step in seconds and speedModulator being 1.\n",
    "#### Equal distribution\n",
    "This means that for one full rotation, pi seconds have to elapse.\n",
    "Using different distributions is very easy now, because we can just change the distribution of the turning time parameter."
   ]
  },
  {
   "cell_type": "code",
   "execution_count": 2,
   "metadata": {},
   "outputs": [],
   "source": [
    "#Using an equal distribution\n",
    "def sendEqualParam():\n",
    "    param = numpy.random.random() * numpy.pi * 0.5\n",
    "    print(param)\n",
    "    sim.setFloatSignal(\"rotationTime\", param)"
   ]
  },
  {
   "cell_type": "markdown",
   "metadata": {},
   "source": [
    "#### Using normal distribution\n",
    "Using normal distribution is a bit more tricky. How much do we want Bill to deviate from simply walking forwards. I think standard devation should be a 90° or pi/4 turn."
   ]
  },
  {
   "cell_type": "code",
   "execution_count": 3,
   "metadata": {},
   "outputs": [],
   "source": [
    "#Using a normal distribution\n",
    "def sendNormalParam():\n",
    "    normaldist = numpy.random.normal(0,numpy.pi/4)\n",
    "    sim.setFloatSignal(\"rotationTime\", normaldist)"
   ]
  },
  {
   "cell_type": "code",
   "execution_count": 10,
   "metadata": {},
   "outputs": [],
   "source": [
    "\n",
    "def simulate():\n",
    "    sim.startSimulation()\n",
    "    #Actually execute the code\n",
    "    sendEqualParam()\n",
    "    time.sleep(5.0)\n",
    "    sim.stopSimulation()\n",
    "    simulate()\n",
    "    time.sleep(1.0)"
   ]
  },
  {
   "cell_type": "code",
   "execution_count": 11,
   "metadata": {},
   "outputs": [
    {
     "name": "stdout",
     "output_type": "stream",
     "text": [
      "0.9608365596412758\n",
      "1.189693033370744\n",
      "0.6481868627299252\n",
      "1.5318506293405247\n",
      "1.0093403050469636\n",
      "0.3933845220687361\n",
      "1.0002810210448356\n",
      "1.2633369416582343\n",
      "0.2610467587210054\n",
      "1.294529198044718\n",
      "0.008902124799807072\n",
      "0.9022424949797173\n",
      "0.11800298685317877\n",
      "0.8579042388678526\n",
      "0.7682097465534324\n",
      "0.9085320806353276\n",
      "0.6817854703957805\n",
      "0.9199594548081588\n",
      "1.0523618802660846\n",
      "0.5421588093539315\n",
      "0.943163852212091\n",
      "0.5865374495094112\n",
      "1.50109809257304\n",
      "0.687599478743355\n",
      "1.027241416826685\n",
      "0.5841492608556332\n",
      "1.3891279009085233\n",
      "0.8426145771009393\n",
      "1.3465736650636964\n",
      "0.210889541270862\n",
      "1.5106187115106045\n",
      "0.5538304942721085\n",
      "0.4616742762075808\n",
      "0.45591366711416403\n",
      "1.185711867180732\n",
      "1.3675540761108436\n",
      "0.629066519571144\n",
      "1.2411504384284477\n",
      "1.4351381320438907\n",
      "1.5058515226174587\n",
      "0.20721119532596233\n",
      "0.6644137703714234\n",
      "0.12084330375935136\n",
      "0.2686727230632588\n",
      "0.22236919656115256\n",
      "0.3888666142578398\n",
      "0.36694859193894563\n",
      "1.3059019697565786\n",
      "0.7043591087026081\n",
      "0.7014607138194336\n",
      "0.6604693331362139\n",
      "0.309686000063367\n",
      "0.5801842533969034\n",
      "0.5927288602263968\n"
     ]
    },
    {
     "ename": "KeyboardInterrupt",
     "evalue": "",
     "output_type": "error",
     "traceback": [
      "\u001b[1;31m---------------------------------------------------------------------------\u001b[0m",
      "\u001b[1;31mKeyboardInterrupt\u001b[0m                         Traceback (most recent call last)",
      "Cell \u001b[1;32mIn [11], line 2\u001b[0m\n\u001b[0;32m      1\u001b[0m data \u001b[39m=\u001b[39m []\n\u001b[1;32m----> 2\u001b[0m simulate()\n",
      "Cell \u001b[1;32mIn [10], line 7\u001b[0m, in \u001b[0;36msimulate\u001b[1;34m()\u001b[0m\n\u001b[0;32m      5\u001b[0m time\u001b[39m.\u001b[39msleep(\u001b[39m5.0\u001b[39m)\n\u001b[0;32m      6\u001b[0m sim\u001b[39m.\u001b[39mstopSimulation()\n\u001b[1;32m----> 7\u001b[0m simulate()\n\u001b[0;32m      8\u001b[0m time\u001b[39m.\u001b[39msleep(\u001b[39m1.0\u001b[39m)\n",
      "Cell \u001b[1;32mIn [10], line 7\u001b[0m, in \u001b[0;36msimulate\u001b[1;34m()\u001b[0m\n\u001b[0;32m      5\u001b[0m time\u001b[39m.\u001b[39msleep(\u001b[39m5.0\u001b[39m)\n\u001b[0;32m      6\u001b[0m sim\u001b[39m.\u001b[39mstopSimulation()\n\u001b[1;32m----> 7\u001b[0m simulate()\n\u001b[0;32m      8\u001b[0m time\u001b[39m.\u001b[39msleep(\u001b[39m1.0\u001b[39m)\n",
      "    \u001b[1;31m[... skipping similar frames: simulate at line 7 (50 times)]\u001b[0m\n",
      "Cell \u001b[1;32mIn [10], line 7\u001b[0m, in \u001b[0;36msimulate\u001b[1;34m()\u001b[0m\n\u001b[0;32m      5\u001b[0m time\u001b[39m.\u001b[39msleep(\u001b[39m5.0\u001b[39m)\n\u001b[0;32m      6\u001b[0m sim\u001b[39m.\u001b[39mstopSimulation()\n\u001b[1;32m----> 7\u001b[0m simulate()\n\u001b[0;32m      8\u001b[0m time\u001b[39m.\u001b[39msleep(\u001b[39m1.0\u001b[39m)\n",
      "Cell \u001b[1;32mIn [10], line 5\u001b[0m, in \u001b[0;36msimulate\u001b[1;34m()\u001b[0m\n\u001b[0;32m      3\u001b[0m \u001b[39m#Actually execute the code\u001b[39;00m\n\u001b[0;32m      4\u001b[0m sendEqualParam()\n\u001b[1;32m----> 5\u001b[0m time\u001b[39m.\u001b[39;49msleep(\u001b[39m5.0\u001b[39;49m)\n\u001b[0;32m      6\u001b[0m sim\u001b[39m.\u001b[39mstopSimulation()\n\u001b[0;32m      7\u001b[0m simulate()\n",
      "\u001b[1;31mKeyboardInterrupt\u001b[0m: "
     ]
    }
   ],
   "source": [
    "data = []\n",
    "simulate()\n"
   ]
  },
  {
   "attachments": {},
   "cell_type": "markdown",
   "metadata": {},
   "source": [
    "#### Using the scanner\n",
    "\n",
    "The other component of the scenario is the laser scanner. To make the generated data points random I am using two different parameters for the scanner: Speed and distance accuracy.  "
   ]
  }
 ],
 "metadata": {
  "kernelspec": {
   "display_name": "Python 3.10.8 64-bit (microsoft store)",
   "language": "python",
   "name": "python3"
  },
  "language_info": {
   "codemirror_mode": {
    "name": "ipython",
    "version": 3
   },
   "file_extension": ".py",
   "mimetype": "text/x-python",
   "name": "python",
   "nbconvert_exporter": "python",
   "pygments_lexer": "ipython3",
   "version": "3.10.9"
  },
  "orig_nbformat": 4,
  "vscode": {
   "interpreter": {
    "hash": "1a4df653cc6538bc064642da9074d5ada00ec088d69af596681d7d49a0630ded"
   }
  }
 },
 "nbformat": 4,
 "nbformat_minor": 2
}
