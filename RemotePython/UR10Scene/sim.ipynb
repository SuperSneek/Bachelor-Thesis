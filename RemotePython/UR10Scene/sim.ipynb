{
 "cells": [
  {
   "cell_type": "code",
   "execution_count": 17,
   "metadata": {},
   "outputs": [],
   "source": [
    "#Imports\n",
    "from zmqRemoteApi import RemoteAPIClient\n",
    "import time\n",
    "import numpy\n",
    "from matplotlib import pyplot as plt\n",
    "\n",
    "from scipy import stats"
   ]
  },
  {
   "cell_type": "code",
   "execution_count": 8,
   "metadata": {},
   "outputs": [],
   "source": [
    "client = RemoteAPIClient()\n",
    "sim = client.getObject('sim')\n",
    "client.setStepping(True)\n",
    "human = sim.getObject('./mannequin')\n",
    "robot = sim.getObject('./UR10')\n",
    "humanRightHand = sim.getObject('./mannequin/Group[2]')\n",
    "robotTip = sim.getObject('./UR10/manipulationSphereBase/manipulationSphere')\n",
    "\n"
   ]
  },
  {
   "cell_type": "markdown",
   "metadata": {},
   "source": [
    "Creating the random parameters\n",
    "\n",
    "For the random parameters a gaussian distribution is used"
   ]
  },
  {
   "cell_type": "code",
   "execution_count": 47,
   "metadata": {},
   "outputs": [],
   "source": [
    "def create_param(a,b):\n",
    "    out = 0\n",
    "    out = numpy.random.normal(a,b)\n",
    "    if out < 0:\n",
    "        out = 0\n",
    "    \n",
    "    return out"
   ]
  },
  {
   "cell_type": "code",
   "execution_count": 68,
   "metadata": {},
   "outputs": [],
   "source": [
    "def send_signals():\n",
    "    params = [create_param(4,4), create_param(1,0.25), create_param(0.04, 0.02), create_param(0.2, 0.1)]\n",
    "    sim.setFloatSignal(\"humanWait\", params[0]) # Humans are messy and lazy\n",
    "    sim.setFloatSignal(\"robotWait\", params[1]) # Robot usually waits for 1 second with little deviation\n",
    "    sim.setFloatSignal(\"humanSpeed\", params[2])\n",
    "    sim.setFloatSignal(\"robotSpeed\", params[3])"
   ]
  },
  {
   "cell_type": "markdown",
   "metadata": {},
   "source": []
  },
  {
   "cell_type": "code",
   "execution_count": 64,
   "metadata": {},
   "outputs": [],
   "source": [
    "#log timestamps and distance for a simulation\n",
    "def simulate():\n",
    "    #send new parameters\n",
    "    send_signals()\n",
    "\n",
    "    sim.boolparam_display_enabled = False\n",
    "    sim.intparam_speedmodifier = 100\n",
    "    \n",
    "    min = 100000000\n",
    "\n",
    "    sim.startSimulation()\n",
    "\n",
    "    startRobotPos = sim.getObjectPosition(robot,sim.handle_world)\n",
    "\n",
    "    while (t := sim.getSimulationTime()) < 5:\n",
    "        s = f'Simulation time: {t:.2f} [s]'\n",
    "        pos1 = sim.getObjectPosition(robotTip,sim.handle_world)\n",
    "        pos2 = sim.getObjectPosition(humanRightHand,sim.handle_world)\n",
    "        dist = numpy.linalg.norm(numpy.subtract(pos1,pos2))\n",
    "        if(dist<min):\n",
    "            min = dist\n",
    "        client.step()\n",
    "    sim.stopSimulation()\n",
    "    return min"
   ]
  },
  {
   "cell_type": "code",
   "execution_count": 69,
   "metadata": {},
   "outputs": [],
   "source": [
    "def mc_sim(passes):\n",
    "    minimums = []\n",
    "    for i in range(0,passes):\n",
    "        print(i)\n",
    "        results = simulate()\n",
    "        minimums.append(results)\n",
    "        time.sleep(0.2)\n",
    "    return minimums"
   ]
  },
  {
   "cell_type": "code",
   "execution_count": 59,
   "metadata": {},
   "outputs": [
    {
     "name": "stdout",
     "output_type": "stream",
     "text": [
      "[9.899730896907847, 0.9248866823887378, 0.04681341338045886, 0.314201552783032]\n"
     ]
    },
    {
     "data": {
      "text/plain": [
       "Text(0.5, 1.0, 'Line')"
      ]
     },
     "execution_count": 59,
     "metadata": {},
     "output_type": "execute_result"
    },
    {
     "data": {
      "image/png": "[encoded data removed]",
      "text/plain": [
       "<Figure size 640x480 with 1 Axes>"
      ]
     },
     "metadata": {},
     "output_type": "display_data"
    }
   ],
   "source": [
    "#Run a simple simulation and plot the distance\n",
    "pass\n",
    "results = simulate()\n",
    "fig = plt.figure()\n",
    "ax=fig.add_axes([0,0,1,1])\n",
    "ax.plot(results[1], results[0])\n",
    "ax.set_title(\"Line\")"
   ]
  },
  {
   "cell_type": "code",
   "execution_count": 71,
   "metadata": {},
   "outputs": [
    {
     "name": "stdout",
     "output_type": "stream",
     "text": [
      "0\n",
      "1\n",
      "2\n",
      "3\n",
      "4\n",
      "5\n",
      "6\n",
      "7\n",
      "8\n",
      "9\n",
      "10\n",
      "11\n",
      "12\n",
      "13\n",
      "14\n",
      "15\n",
      "16\n",
      "17\n",
      "18\n",
      "19\n",
      "20\n",
      "21\n",
      "22\n",
      "23\n",
      "24\n",
      "25\n",
      "26\n",
      "27\n",
      "28\n",
      "29\n",
      "30\n",
      "31\n",
      "32\n",
      "33\n",
      "34\n",
      "35\n",
      "36\n",
      "37\n",
      "38\n",
      "39\n",
      "40\n",
      "41\n",
      "42\n",
      "43\n",
      "44\n",
      "45\n",
      "46\n",
      "47\n",
      "48\n",
      "49\n",
      "50\n",
      "51\n",
      "52\n",
      "53\n",
      "54\n",
      "55\n",
      "56\n",
      "57\n",
      "58\n",
      "59\n",
      "60\n",
      "61\n",
      "62\n",
      "63\n",
      "64\n",
      "65\n",
      "66\n",
      "67\n",
      "68\n",
      "69\n",
      "70\n",
      "71\n",
      "72\n",
      "73\n",
      "74\n",
      "75\n",
      "76\n",
      "77\n",
      "78\n",
      "79\n",
      "80\n",
      "81\n",
      "82\n",
      "83\n",
      "84\n",
      "85\n",
      "86\n",
      "87\n",
      "88\n",
      "89\n",
      "90\n",
      "91\n",
      "92\n",
      "93\n",
      "94\n",
      "95\n",
      "96\n",
      "97\n",
      "98\n",
      "99\n"
     ]
    },
    {
     "data": {
      "image/png": "[encoded data removed]",
      "text/plain": [
       "<Figure size 640x480 with 1 Axes>"
      ]
     },
     "metadata": {},
     "output_type": "display_data"
    }
   ],
   "source": [
    "mins = mc_sim(100)\n",
    "hist = plt.hist(mins)"
   ]
  }
 ],
 "metadata": {
  "kernelspec": {
   "display_name": "Python 3.10.8 64-bit (microsoft store)",
   "language": "python",
   "name": "python3"
  },
  "language_info": {
   "codemirror_mode": {
    "name": "ipython",
    "version": 3
   },
   "file_extension": ".py",
   "mimetype": "text/x-python",
   "name": "python",
   "nbconvert_exporter": "python",
   "pygments_lexer": "ipython3",
   "version": "3.10.8"
  },
  "orig_nbformat": 4,
  "vscode": {
   "interpreter": {
    "hash": "1a4df653cc6538bc064642da9074d5ada00ec088d69af596681d7d49a0630ded"
   }
  }
 },
 "nbformat": 4,
 "nbformat_minor": 2
}
