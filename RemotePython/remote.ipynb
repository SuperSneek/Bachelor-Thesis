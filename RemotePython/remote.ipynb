{
 "cells": [
  {
   "cell_type": "code",
   "execution_count": 1,
   "metadata": {},
   "outputs": [],
   "source": [
    "#Imports\n",
    "from matplotlib import pyplot as plt\n",
    "import time\n",
    "import numpy\n",
    "from zmqRemoteApi import RemoteAPIClient\n",
    "\n",
    "from scipy import stats"
   ]
  },
  {
   "cell_type": "code",
   "execution_count": 2,
   "metadata": {},
   "outputs": [],
   "source": [
    "client = RemoteAPIClient()\n",
    "sim = client.getObject('sim')\n",
    "client.setStepping(True)\n",
    "bill = sim.getObject('./Bill/Bill')\n",
    "robot = sim.getObject('./Omnirob')"
   ]
  },
  {
   "cell_type": "code",
   "execution_count": 3,
   "metadata": {},
   "outputs": [],
   "source": [
    "#log timestamps and distance for a simulation\n",
    "def simulate():\n",
    "    sim.boolparam_display_enabled = False\n",
    "    sim.intparam_speedmodifier = 100\n",
    "    timestamps = []\n",
    "    resultData = []\n",
    "\n",
    "    sim.startSimulation()\n",
    "\n",
    "    startRobotPos = sim.getObjectPosition(robot,sim.handle_world)\n",
    "    startRobotPos[0] += (-4 + numpy.random.random()*8)\n",
    "\n",
    "    sim.setObjectPosition(robot, sim.handle_world,startRobotPos)\n",
    "\n",
    "    while (t := sim.getSimulationTime()) < 3:\n",
    "        s = f'Simulation time: {t:.2f} [s]'\n",
    "        pos1 = sim.getObjectPosition(bill,sim.handle_world)\n",
    "        pos2 = sim.getObjectPosition(robot,sim.handle_world)\n",
    "        dist = numpy.linalg.norm(numpy.subtract(pos1,pos2))\n",
    "        resultData.append(dist)\n",
    "        timestamps.append(t)\n",
    "        client.step()\n",
    "    sim.stopSimulation()\n",
    "    return resultData"
   ]
  },
  {
   "cell_type": "code",
   "execution_count": 4,
   "metadata": {},
   "outputs": [],
   "source": [
    "# Run a monte carlo simulation\n",
    "\n",
    "def mc_sim(passes):\n",
    "    minimums = []\n",
    "    for i in range(0,passes):\n",
    "        results = simulate()\n",
    "        minimums.append(min(results))\n",
    "        time.sleep(0.2)\n",
    "    return minimums"
   ]
  },
  {
   "cell_type": "code",
   "execution_count": 5,
   "metadata": {},
   "outputs": [
    {
     "data": {
      "text/plain": [
       "Text(0.5, 1.0, 'Line')"
      ]
     },
     "execution_count": 5,
     "metadata": {},
     "output_type": "execute_result"
    },
    {
     "data": {
      "image/png": "[encoded data removed]",
      "text/plain": [
       "<Figure size 432x288 with 1 Axes>"
      ]
     },
     "metadata": {
      "needs_background": "light"
     },
     "output_type": "display_data"
    }
   ],
   "source": [
    "#Run a simple simulation and plot the distance\n",
    "pass\n",
    "results = simulate()\n",
    "fig = plt.figure()\n",
    "ax=fig.add_axes([0,0,1,1])\n",
    "ax.plot(results[0], results[1])\n",
    "ax.set_title(\"Line\")"
   ]
  },
  {
   "cell_type": "code",
   "execution_count": 6,
   "metadata": {},
   "outputs": [
    {
     "name": "stdout",
     "output_type": "stream",
     "text": [
      "[3.3427796861133605, 3.089366816602883, 3.3983535257505335, 3.2679550216664475, 3.5295903747721664]\n"
     ]
    },
    {
     "data": {
      "image/png": "[encoded data removed]",
      "text/plain": [
       "<Figure size 432x288 with 1 Axes>"
      ]
     },
     "metadata": {
      "needs_background": "light"
     },
     "output_type": "display_data"
    }
   ],
   "source": [
    "mins = mc_sim(5)\n",
    "print(mins)\n",
    "hist = plt.hist(mins)"
   ]
  }
 ],
 "metadata": {
  "kernelspec": {
   "display_name": "Python 3.8.10 64-bit",
   "language": "python",
   "name": "python3"
  },
  "language_info": {
   "codemirror_mode": {
    "name": "ipython",
    "version": 3
   },
   "file_extension": ".py",
   "mimetype": "text/x-python",
   "name": "python",
   "nbconvert_exporter": "python",
   "pygments_lexer": "ipython3",
   "version": "3.8.10"
  },
  "orig_nbformat": 4,
  "vscode": {
   "interpreter": {
    "hash": "916dbcbb3f70747c44a77c7bcd40155683ae19c65e1c03b4aa3499c5328201f1"
   }
  }
 },
 "nbformat": 4,
 "nbformat_minor": 2
}
